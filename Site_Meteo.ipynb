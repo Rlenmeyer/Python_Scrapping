{
 "cells": [
  {
   "cell_type": "markdown",
   "metadata": {},
   "source": [
    "# Challenge 1 : Site Météo"
   ]
  },
  {
   "cell_type": "markdown",
   "metadata": {},
   "source": [
    "## Exploration de la structure de la page web \n",
    "\n",
    "### Pratique : \n",
    "- Télécharger la page contenant la prévision météo \n",
    "- Utiliser BeautifulSoup pour analyser le code HTML \n",
    "- Trouver l'ID seven-day-forecast et assigner le résultat à la variable seven_day \n",
    "- A l'intérieur de seven_day, sélectionner chaque prévision individuellement \n",
    "- Extraire et afficher le premier élément \n",
    "    "
   ]
  },
  {
   "cell_type": "code",
   "execution_count": 22,
   "metadata": {},
   "outputs": [],
   "source": [
    "# Import des librairies \n",
    "import requests \n",
    "from bs4 import BeautifulSoup \n",
    "import pandas as pd"
   ]
  },
  {
   "cell_type": "code",
   "execution_count": 23,
   "metadata": {},
   "outputs": [],
   "source": [
    "# On télécharge le site web\n",
    "response = requests.get(\"https://forecast.weather.gov/MapClick.php?lat=37.7772&lon=-122.4168#.XWeG7pMzY6g\")\n",
    "content = response.content\n",
    "parser=BeautifulSoup(content,'html.parser')"
   ]
  },
  {
   "cell_type": "code",
   "execution_count": 30,
   "metadata": {},
   "outputs": [
    {
     "name": "stdout",
     "output_type": "stream",
     "text": [
      "<div class=\"tombstone-container\">\n",
      " <p class=\"period-name\">\n",
      "  Overnight\n",
      "  <br/>\n",
      "  <br/>\n",
      " </p>\n",
      " <p>\n",
      "  <img alt=\"Overnight: Patchy fog.  Otherwise, mostly cloudy, with a low around 61. West southwest wind around 9 mph. \" class=\"forecast-icon\" src=\"newimages/medium/nfg.png\" title=\"Overnight: Patchy fog.  Otherwise, mostly cloudy, with a low around 61. West southwest wind around 9 mph. \"/>\n",
      " </p>\n",
      " <p class=\"short-desc\">\n",
      "  Patchy Fog\n",
      " </p>\n",
      " <p class=\"temp temp-low\">\n",
      "  Low: 61 °F\n",
      " </p>\n",
      "</div>\n"
     ]
    }
   ],
   "source": [
    "# On récupère les infos dans l'id seven-day-forecast\n",
    "seven_day = parser.find(id=\"seven-day-forecast\")\n",
    "\n",
    "forecast_item = seven_day.find_all(class_='tombstone-container')\n",
    "\n",
    "today=forecast_item[0]\n",
    "print(today.prettify())"
   ]
  },
  {
   "cell_type": "markdown",
   "metadata": {},
   "source": [
    "## Extraire toutes les informations d'un élément\n",
    "\n",
    "### Pratique : \n",
    "\n",
    "- Extraire le nom de l'objet forecast, la courte description et la température\n",
    "- Extraire le titre de l'objet img"
   ]
  },
  {
   "cell_type": "code",
   "execution_count": 45,
   "metadata": {},
   "outputs": [
    {
     "name": "stdout",
     "output_type": "stream",
     "text": [
      "Overnight\n",
      "Patchy Fog\n",
      "Low: 61 °F\n",
      "Overnight: Patchy fog.  Otherwise, mostly cloudy, with a low around 61. West southwest wind around 9 mph. \n"
     ]
    }
   ],
   "source": [
    "name=today.find(class_=\"period-name\").text\n",
    "short_desc=today.find(class_='short-desc').text\n",
    "Temp=today.find(class_='temp temp-low').text\n",
    "Title=today.find(\"img\")\n",
    "Desc=Title['title']\n",
    "print(name)\n",
    "print(short_desc)\n",
    "print(Temp)\n",
    "print(Desc)"
   ]
  },
  {
   "cell_type": "markdown",
   "metadata": {},
   "source": [
    "## Extraire toutes les informations de la page \n",
    "\n",
    "### Exemple : \n",
    "\n",
    "- Sélectionner tous les objets de la class period-name à l'intérieur d'un objet de classe tombstone-container dans l'élément seven-day\n",
    "- Utiliser une compréhension de liste puis appeler la méthode get_text() sur chaque objet "
   ]
  },
  {
   "cell_type": "code",
   "execution_count": 46,
   "metadata": {},
   "outputs": [
    {
     "name": "stdout",
     "output_type": "stream",
     "text": [
      "['Overnight', 'Thursday', 'ThursdayNight', 'Friday', 'FridayNight', 'Saturday', 'SaturdayNight', 'Sunday', 'SundayNight']\n"
     ]
    }
   ],
   "source": [
    "period_tags= seven_day.select(\".tombstone-container .period-name\")\n",
    "# On parcourt tous les éléments de notre list period_tags et pour chaque éléments on applique la méthode get_text()\n",
    "periods=[pt.get_text() for pt in period_tags]\n",
    "print(periods)"
   ]
  },
  {
   "cell_type": "markdown",
   "metadata": {},
   "source": [
    "### Pratique : \n",
    "\n",
    "- Faites de même avec la courte description, les températures et les titres "
   ]
  },
  {
   "cell_type": "code",
   "execution_count": 47,
   "metadata": {},
   "outputs": [
    {
     "name": "stdout",
     "output_type": "stream",
     "text": [
      "['Patchy Fog', 'Patchy Fogthen Sunny', 'Patchy Fog', 'Patchy Fogthen Sunny', 'Patchy Fog', 'Patchy Fogthen Sunny', 'Patchy Fog', 'Patchy Fogthen Sunny', 'Mostly Clear']\n"
     ]
    }
   ],
   "source": [
    "# Courte description\n",
    "short_desc_tags= seven_day.select(\".tombstone-container .short-desc\")\n",
    "short_descs=[pt.get_text() for pt in short_desc_tags]\n",
    "print(short_descs)"
   ]
  },
  {
   "cell_type": "code",
   "execution_count": 50,
   "metadata": {},
   "outputs": [
    {
     "name": "stdout",
     "output_type": "stream",
     "text": [
      "['Low: 61 °F', 'Low: 59 °F', 'Low: 59 °F', 'Low: 61 °F', 'Low: 60 °F']\n"
     ]
    }
   ],
   "source": [
    "# Températures \n",
    "temp_tags = seven_day.select('.tombstone-container .temp-low')\n",
    "temps=[pt.get_text() for pt in temp_tags]\n",
    "print(temps)"
   ]
  },
  {
   "cell_type": "code",
   "execution_count": 71,
   "metadata": {},
   "outputs": [
    {
     "name": "stdout",
     "output_type": "stream",
     "text": [
      "['Overnight: Patchy fog.  Otherwise, mostly cloudy, with a low around 61. West southwest wind around 9 mph. ', 'Thursday: Patchy fog before 11am.  Otherwise, cloudy through mid morning, then gradual clearing, with a high near 71. West wind 7 to 14 mph, with gusts as high as 18 mph. ', 'Thursday Night: Patchy fog after 11pm.  Otherwise, increasing clouds, with a low around 59. West wind 10 to 16 mph, with gusts as high as 21 mph. ', 'Friday: Patchy fog before 11am.  Otherwise, cloudy through mid morning, then gradual clearing, with a high near 72. West wind 9 to 14 mph. ', 'Friday Night: Patchy fog after 11pm.  Otherwise, mostly clear, with a low around 59. West wind 9 to 16 mph, with gusts as high as 21 mph. ', 'Saturday: Patchy fog before 9am.  Otherwise, mostly sunny, with a high near 73.', 'Saturday Night: Patchy fog after 11pm.  Otherwise, mostly clear, with a low around 61.', 'Sunday: Patchy fog before 10am.  Otherwise, mostly sunny, with a high near 74.', 'Sunday Night: Mostly clear, with a low around 60.']\n"
     ]
    }
   ],
   "source": [
    "# Les titres \n",
    "img_tags= seven_day.find_all(\"img\")\n",
    "titles=[pt[\"title\"] for pt in title_tags]\n",
    "print(titles)"
   ]
  },
  {
   "cell_type": "code",
   "execution_count": null,
   "metadata": {},
   "outputs": [],
   "source": []
  }
 ],
 "metadata": {
  "kernelspec": {
   "display_name": "Python 3",
   "language": "python",
   "name": "python3"
  },
  "language_info": {
   "codemirror_mode": {
    "name": "ipython",
    "version": 3
   },
   "file_extension": ".py",
   "mimetype": "text/x-python",
   "name": "python",
   "nbconvert_exporter": "python",
   "pygments_lexer": "ipython3",
   "version": "3.7.3"
  }
 },
 "nbformat": 4,
 "nbformat_minor": 2
}
